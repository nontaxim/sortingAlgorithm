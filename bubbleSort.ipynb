{
 "cells": [
  {
   "cell_type": "code",
   "execution_count": 11,
   "metadata": {},
   "outputs": [],
   "source": [
    "# data = [13, 15, 14, 7, 11, 21, 20]\n",
    "data = ['M','O','N','G','K','U','T']"
   ]
  },
  {
   "cell_type": "code",
   "execution_count": 12,
   "metadata": {},
   "outputs": [],
   "source": [
    "def bubbleSort(data):\n",
    "    size = len(data)\n",
    "    for i in range(size-1):\n",
    "        for j in range(size-i-1):\n",
    "            if data[j] > data[j+1]:\n",
    "                data[j], data[j+1] = data[j+1], data[j]\n",
    "        print(data)"
   ]
  },
  {
   "cell_type": "code",
   "execution_count": 13,
   "metadata": {},
   "outputs": [
    {
     "name": "stdout",
     "output_type": "stream",
     "text": [
      "['M', 'N', 'G', 'K', 'O', 'T', 'U']\n",
      "['M', 'G', 'K', 'N', 'O', 'T', 'U']\n",
      "['G', 'K', 'M', 'N', 'O', 'T', 'U']\n",
      "['G', 'K', 'M', 'N', 'O', 'T', 'U']\n",
      "['G', 'K', 'M', 'N', 'O', 'T', 'U']\n",
      "['G', 'K', 'M', 'N', 'O', 'T', 'U']\n",
      "-----------------------------------\n",
      "sortedData:  ['G', 'K', 'M', 'N', 'O', 'T', 'U']\n"
     ]
    }
   ],
   "source": [
    "bubbleSort(data)\n",
    "print(\"-----------------------------------\")\n",
    "print(\"sortedData: \",data)"
   ]
  }
 ],
 "metadata": {
  "kernelspec": {
   "display_name": "Python 3.10.6 64-bit",
   "language": "python",
   "name": "python3"
  },
  "language_info": {
   "codemirror_mode": {
    "name": "ipython",
    "version": 3
   },
   "file_extension": ".py",
   "mimetype": "text/x-python",
   "name": "python",
   "nbconvert_exporter": "python",
   "pygments_lexer": "ipython3",
   "version": "3.10.6"
  },
  "orig_nbformat": 4,
  "vscode": {
   "interpreter": {
    "hash": "eb6d20035d45c3d21aa51649f768f6314977d8cfc1f0fc072c8131f48fe3cd21"
   }
  }
 },
 "nbformat": 4,
 "nbformat_minor": 2
}
