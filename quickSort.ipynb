{
 "cells": [
  {
   "cell_type": "code",
   "execution_count": 57,
   "metadata": {},
   "outputs": [],
   "source": [
    "# data = [13, 15, 14, 7, 11, 21, 20]\n",
    "# data = ['M','O','N','G','K','U','T']\n",
    "# data = [5, 3, 1, 9, 8, 2, 4, 7, 7]\n",
    "data = [10,2,3,5,10,1]\n",
    "# data = [1,2,3,4,2,7,8,9,110]\n",
    "# data = [4, 6, 2, 3, 4]\n"
   ]
  },
  {
   "cell_type": "code",
   "execution_count": 58,
   "metadata": {},
   "outputs": [],
   "source": [
    "def findCorrectIndex(data, L, R):\n",
    "    pivot = data[L]\n",
    "    i = L\n",
    "    j = R+1\n",
    "    print('\\33[45m', \"pivot = \", pivot, '\\33[0m')\n",
    "    print('\\33[45m', \"L = \", L, \"R = \",R, '\\33[0m')\n",
    "    while i < j:\n",
    "        i += 1\n",
    "        while i < R and data[i] < pivot:\n",
    "            i+=1\n",
    "        j -= 1\n",
    "        while data[j] > pivot:\n",
    "            j-=1\n",
    "        print('\\33[33m',\"swap \",data[i], data[j], '\\33[0m')\n",
    "        data[i], data[j] = data[j], data[i]\n",
    "        print(data)\n",
    "    data[i], data[j] = data[j], data[i]\n",
    "    data[L], data[j] = data[j], data[L]\n",
    "    print('\\33[31m',\"--------------------------------------\",'\\33[0m')\n",
    "    print(data)\n",
    "    print('\\33[31m',\"--------------------------------------\",'\\33[0m')\n",
    "    return j\n",
    "\n"
   ]
  },
  {
   "cell_type": "code",
   "execution_count": 59,
   "metadata": {},
   "outputs": [],
   "source": [
    "def quickSort(data, L, R):\n",
    "    if L < R:\n",
    "        indexPivot = findCorrectIndex(data, L, R)\n",
    "        # print('\\33[100m', \"L = \", L, \"R = \",R, '\\33[0m', end=\"\")\n",
    "        quickSort(data, L, indexPivot-1)\n",
    "        quickSort(data, indexPivot+1, R)\n"
   ]
  },
  {
   "cell_type": "code",
   "execution_count": 60,
   "metadata": {},
   "outputs": [
    {
     "name": "stdout",
     "output_type": "stream",
     "text": [
      "Input:  [10, 2, 3, 5, 10, 1]\n",
      "\u001b[45m pivot =  10 \u001b[0m\n",
      "\u001b[45m L =  0 R =  5 \u001b[0m\n",
      "\u001b[33m swap  10 1 \u001b[0m\n",
      "[10, 2, 3, 5, 1, 10]\n",
      "\u001b[33m swap  10 1 \u001b[0m\n",
      "[10, 2, 3, 5, 10, 1]\n",
      "\u001b[31m -------------------------------------- \u001b[0m\n",
      "[1, 2, 3, 5, 10, 10]\n",
      "\u001b[31m -------------------------------------- \u001b[0m\n",
      "\u001b[45m pivot =  1 \u001b[0m\n",
      "\u001b[45m L =  0 R =  3 \u001b[0m\n",
      "\u001b[33m swap  2 1 \u001b[0m\n",
      "[2, 1, 3, 5, 10, 10]\n",
      "\u001b[31m -------------------------------------- \u001b[0m\n",
      "[1, 2, 3, 5, 10, 10]\n",
      "\u001b[31m -------------------------------------- \u001b[0m\n",
      "\u001b[45m pivot =  2 \u001b[0m\n",
      "\u001b[45m L =  1 R =  3 \u001b[0m\n",
      "\u001b[33m swap  3 2 \u001b[0m\n",
      "[1, 3, 2, 5, 10, 10]\n",
      "\u001b[31m -------------------------------------- \u001b[0m\n",
      "[1, 2, 3, 5, 10, 10]\n",
      "\u001b[31m -------------------------------------- \u001b[0m\n",
      "\u001b[45m pivot =  3 \u001b[0m\n",
      "\u001b[45m L =  2 R =  3 \u001b[0m\n",
      "\u001b[33m swap  5 3 \u001b[0m\n",
      "[1, 2, 5, 3, 10, 10]\n",
      "\u001b[31m -------------------------------------- \u001b[0m\n",
      "[1, 2, 3, 5, 10, 10]\n",
      "\u001b[31m -------------------------------------- \u001b[0m\n",
      "\n",
      "Output:  [1, 2, 3, 5, 10, 10]\n"
     ]
    }
   ],
   "source": [
    "print(\"Input: \", data)\n",
    "quickSort(data, 0, len(data)-1)\n",
    "print(\"\\nOutput: \", data)"
   ]
  }
 ],
 "metadata": {
  "kernelspec": {
   "display_name": "Python 3.10.6 64-bit",
   "language": "python",
   "name": "python3"
  },
  "language_info": {
   "codemirror_mode": {
    "name": "ipython",
    "version": 3
   },
   "file_extension": ".py",
   "mimetype": "text/x-python",
   "name": "python",
   "nbconvert_exporter": "python",
   "pygments_lexer": "ipython3",
   "version": "3.10.6"
  },
  "orig_nbformat": 4,
  "vscode": {
   "interpreter": {
    "hash": "eb6d20035d45c3d21aa51649f768f6314977d8cfc1f0fc072c8131f48fe3cd21"
   }
  }
 },
 "nbformat": 4,
 "nbformat_minor": 2
}
