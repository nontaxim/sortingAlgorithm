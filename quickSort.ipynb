{
 "cells": [
  {
   "cell_type": "code",
   "execution_count": 1,
   "metadata": {},
   "outputs": [],
   "source": [
    "# data = [13, 15, 14, 7, 11, 21, 20]\n",
    "# data = ['M','O','N','G','K','U','T']\n",
    "data = [5, 3, 1, 9, 8, 2, 4, 7, 7]\n",
    "# data = [4, 6, 2, 3, 4]\n"
   ]
  },
  {
   "cell_type": "code",
   "execution_count": 2,
   "metadata": {},
   "outputs": [],
   "source": [
    "def findCorrectIndex(data, L, R):\n",
    "    pivot = data[L]\n",
    "    i = L\n",
    "    j = R+1\n",
    "    print('\\33[100m', \"| pivot = \", pivot, '\\33[0m')\n",
    "    while i < j:\n",
    "        i += 1\n",
    "        while data[i] < pivot:\n",
    "            i+=1\n",
    "        j -= 1\n",
    "        while data[j] > pivot:\n",
    "            j-=1\n",
    "        print('\\33[33m',\"swap \",data[i], data[j], '\\33[0m')\n",
    "        data[i], data[j] = data[j], data[i]\n",
    "        print(data)\n",
    "    data[i], data[j] = data[j], data[i]\n",
    "    data[L], data[j] = data[j], data[L]\n",
    "    print('\\33[31m',\"--------------------------------------\",'\\33[0m')\n",
    "    print(data)\n",
    "    print('\\33[31m',\"--------------------------------------\",'\\33[0m')\n",
    "    return j\n",
    "\n"
   ]
  },
  {
   "cell_type": "code",
   "execution_count": 3,
   "metadata": {},
   "outputs": [],
   "source": [
    "def quickSort(data, L, R):\n",
    "    if L < R:\n",
    "        indexPivot = findCorrectIndex(data, L, R)\n",
    "        print('\\33[100m', \"L = \", L, \"R = \",R, '\\33[0m', end=\"\")\n",
    "        quickSort(data, L, indexPivot-1)\n",
    "        quickSort(data, indexPivot+1, R)\n"
   ]
  },
  {
   "cell_type": "code",
   "execution_count": 4,
   "metadata": {},
   "outputs": [
    {
     "name": "stdout",
     "output_type": "stream",
     "text": [
      "Input:  [5, 3, 1, 9, 8, 2, 4, 7, 7]\n",
      "\u001b[100m | pivot =  5 \u001b[0m\n",
      "\u001b[33m swap  9 4 \u001b[0m\n",
      "[5, 3, 1, 4, 8, 2, 9, 7, 7]\n",
      "\u001b[33m swap  8 2 \u001b[0m\n",
      "[5, 3, 1, 4, 2, 8, 9, 7, 7]\n",
      "\u001b[33m swap  8 2 \u001b[0m\n",
      "[5, 3, 1, 4, 8, 2, 9, 7, 7]\n",
      "\u001b[31m -------------------------------------- \u001b[0m\n",
      "[2, 3, 1, 4, 5, 8, 9, 7, 7]\n",
      "\u001b[31m -------------------------------------- \u001b[0m\n",
      "\u001b[100m L =  0 R =  8 \u001b[0m\u001b[100m | pivot =  2 \u001b[0m\n",
      "\u001b[33m swap  3 1 \u001b[0m\n",
      "[2, 1, 3, 4, 5, 8, 9, 7, 7]\n",
      "\u001b[33m swap  3 1 \u001b[0m\n",
      "[2, 3, 1, 4, 5, 8, 9, 7, 7]\n",
      "\u001b[31m -------------------------------------- \u001b[0m\n",
      "[1, 2, 3, 4, 5, 8, 9, 7, 7]\n",
      "\u001b[31m -------------------------------------- \u001b[0m\n",
      "\u001b[100m L =  0 R =  3 \u001b[0m\u001b[100m | pivot =  3 \u001b[0m\n",
      "\u001b[33m swap  4 3 \u001b[0m\n",
      "[1, 2, 4, 3, 5, 8, 9, 7, 7]\n",
      "\u001b[31m -------------------------------------- \u001b[0m\n",
      "[1, 2, 3, 4, 5, 8, 9, 7, 7]\n",
      "\u001b[31m -------------------------------------- \u001b[0m\n",
      "\u001b[100m L =  2 R =  3 \u001b[0m\u001b[100m | pivot =  8 \u001b[0m\n",
      "\u001b[33m swap  9 7 \u001b[0m\n",
      "[1, 2, 3, 4, 5, 8, 7, 7, 9]\n",
      "\u001b[33m swap  9 7 \u001b[0m\n",
      "[1, 2, 3, 4, 5, 8, 7, 9, 7]\n",
      "\u001b[31m -------------------------------------- \u001b[0m\n",
      "[1, 2, 3, 4, 5, 7, 7, 8, 9]\n",
      "\u001b[31m -------------------------------------- \u001b[0m\n",
      "\u001b[100m L =  5 R =  8 \u001b[0m\u001b[100m | pivot =  7 \u001b[0m\n",
      "\u001b[33m swap  7 7 \u001b[0m\n",
      "[1, 2, 3, 4, 5, 7, 7, 8, 9]\n",
      "\u001b[31m -------------------------------------- \u001b[0m\n",
      "[1, 2, 3, 4, 5, 7, 7, 8, 9]\n",
      "\u001b[31m -------------------------------------- \u001b[0m\n",
      "\u001b[100m L =  5 R =  6 \u001b[0m\n",
      "Output:  [1, 2, 3, 4, 5, 7, 7, 8, 9]\n"
     ]
    }
   ],
   "source": [
    "print(\"Input: \", data)\n",
    "quickSort(data, 0, len(data)-1)\n",
    "print(\"\\nOutput: \", data)"
   ]
  }
 ],
 "metadata": {
  "kernelspec": {
   "display_name": "Python 3.10.6 64-bit",
   "language": "python",
   "name": "python3"
  },
  "language_info": {
   "codemirror_mode": {
    "name": "ipython",
    "version": 3
   },
   "file_extension": ".py",
   "mimetype": "text/x-python",
   "name": "python",
   "nbconvert_exporter": "python",
   "pygments_lexer": "ipython3",
   "version": "3.10.6"
  },
  "orig_nbformat": 4,
  "vscode": {
   "interpreter": {
    "hash": "eb6d20035d45c3d21aa51649f768f6314977d8cfc1f0fc072c8131f48fe3cd21"
   }
  }
 },
 "nbformat": 4,
 "nbformat_minor": 2
}
