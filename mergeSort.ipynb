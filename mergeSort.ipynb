{
 "cells": [
  {
   "cell_type": "code",
   "execution_count": 269,
   "metadata": {},
   "outputs": [],
   "source": [
    "# data = [13, 15, 14, 7, 11, 21, 20]\n",
    "# data = ['M','O','N','G','K','U','T']\n",
    "data = [5, 3, 1, 9, 8, 2, 4, 7, 7]\n",
    "# data = [4, 6, 2, 3, 4]\n"
   ]
  },
  {
   "cell_type": "code",
   "execution_count": 270,
   "metadata": {},
   "outputs": [],
   "source": [
    "def merge( data, L , M, R ):\n",
    "    tempData = []\n",
    "    i = j = k = 0\n",
    "    leftSize = M - L + 1\n",
    "    rightSize = R - (M+1) + 1 \n",
    "    print(\"leftSize = \",leftSize, \" rightSize = \",rightSize)\n",
    "\n",
    "    #compare which one should be front\n",
    "    while i < leftSize and j < rightSize:\n",
    "        if data[L+i] < data[M+1+j]:\n",
    "            tempData.append(data[L+i])\n",
    "            i+=1\n",
    "        else:\n",
    "            tempData.append(data[M+1+j])\n",
    "            j+=1\n",
    "\n",
    "    if i == leftSize :\n",
    "        # right hand side is not empty\n",
    "        while j < rightSize:\n",
    "            tempData.append(data[M+1+j])\n",
    "            j+=1\n",
    "    else:\n",
    "        # left hand side is not empty\n",
    "        while i < leftSize:\n",
    "            tempData.append(data[L+i])\n",
    "            i+=1\n",
    "\n",
    "    print(tempData)\n",
    "\n",
    "    #copy to array\n",
    "    for i in range(L,R+1):\n",
    "        data[i] = tempData[k]\n",
    "        k+=1\n",
    "        \n",
    "    \n"
   ]
  },
  {
   "cell_type": "code",
   "execution_count": 271,
   "metadata": {},
   "outputs": [],
   "source": [
    "def mergeSort(data, L, R):\n",
    "    if L < R :\n",
    "        mid = (L + R) // 2\n",
    "        mergeSort(data, L, mid)\n",
    "        mergeSort(data, mid+1, R)\n",
    "        merge(data, L, mid, R)\n",
    "        print(\"merge index: \",L,\"->\",mid, \"and\",mid+1, \"->\",R)\n",
    "        print(\"after merge: \",data)\n",
    "        print('\\33[31m',\"--------------------------------------\",'\\33[0m')"
   ]
  },
  {
   "cell_type": "code",
   "execution_count": 272,
   "metadata": {},
   "outputs": [
    {
     "name": "stdout",
     "output_type": "stream",
     "text": [
      "input:  [5, 3, 1, 9, 8, 2, 4, 7, 7]\n",
      "leftSize =  1  rightSize =  1\n",
      "[3, 5]\n",
      "merge index:  0 -> 0 and 1 -> 1\n",
      "after merge:  [3, 5, 1, 9, 8, 2, 4, 7, 7]\n",
      "\u001b[31m -------------------------------------- \u001b[0m\n",
      "leftSize =  2  rightSize =  1\n",
      "[1, 3, 5]\n",
      "merge index:  0 -> 1 and 2 -> 2\n",
      "after merge:  [1, 3, 5, 9, 8, 2, 4, 7, 7]\n",
      "\u001b[31m -------------------------------------- \u001b[0m\n",
      "leftSize =  1  rightSize =  1\n",
      "[8, 9]\n",
      "merge index:  3 -> 3 and 4 -> 4\n",
      "after merge:  [1, 3, 5, 8, 9, 2, 4, 7, 7]\n",
      "\u001b[31m -------------------------------------- \u001b[0m\n",
      "leftSize =  3  rightSize =  2\n",
      "[1, 3, 5, 8, 9]\n",
      "merge index:  0 -> 2 and 3 -> 4\n",
      "after merge:  [1, 3, 5, 8, 9, 2, 4, 7, 7]\n",
      "\u001b[31m -------------------------------------- \u001b[0m\n",
      "leftSize =  1  rightSize =  1\n",
      "[2, 4]\n",
      "merge index:  5 -> 5 and 6 -> 6\n",
      "after merge:  [1, 3, 5, 8, 9, 2, 4, 7, 7]\n",
      "\u001b[31m -------------------------------------- \u001b[0m\n",
      "leftSize =  1  rightSize =  1\n",
      "[7, 7]\n",
      "merge index:  7 -> 7 and 8 -> 8\n",
      "after merge:  [1, 3, 5, 8, 9, 2, 4, 7, 7]\n",
      "\u001b[31m -------------------------------------- \u001b[0m\n",
      "leftSize =  2  rightSize =  2\n",
      "[2, 4, 7, 7]\n",
      "merge index:  5 -> 6 and 7 -> 8\n",
      "after merge:  [1, 3, 5, 8, 9, 2, 4, 7, 7]\n",
      "\u001b[31m -------------------------------------- \u001b[0m\n",
      "leftSize =  5  rightSize =  4\n",
      "[1, 2, 3, 4, 5, 7, 7, 8, 9]\n",
      "merge index:  0 -> 4 and 5 -> 8\n",
      "after merge:  [1, 2, 3, 4, 5, 7, 7, 8, 9]\n",
      "\u001b[31m -------------------------------------- \u001b[0m\n",
      "Output:  [1, 2, 3, 4, 5, 7, 7, 8, 9]\n"
     ]
    }
   ],
   "source": [
    "print(\"input: \",data)\n",
    "mergeSort(data, 0, len(data)-1)\n",
    "print(\"Output: \",data)\n"
   ]
  }
 ],
 "metadata": {
  "kernelspec": {
   "display_name": "Python 3.10.6 64-bit",
   "language": "python",
   "name": "python3"
  },
  "language_info": {
   "codemirror_mode": {
    "name": "ipython",
    "version": 3
   },
   "file_extension": ".py",
   "mimetype": "text/x-python",
   "name": "python",
   "nbconvert_exporter": "python",
   "pygments_lexer": "ipython3",
   "version": "3.10.6"
  },
  "orig_nbformat": 4,
  "vscode": {
   "interpreter": {
    "hash": "eb6d20035d45c3d21aa51649f768f6314977d8cfc1f0fc072c8131f48fe3cd21"
   }
  }
 },
 "nbformat": 4,
 "nbformat_minor": 2
}
