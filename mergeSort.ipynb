{
 "cells": [
  {
   "cell_type": "code",
   "execution_count": 65,
   "metadata": {},
   "outputs": [],
   "source": [
    "data = [13, 15, 14, 7, 11, 21, 20]\n",
    "# data = ['M','O','N','G','K','U','T']\n"
   ]
  },
  {
   "cell_type": "code",
   "execution_count": 66,
   "metadata": {},
   "outputs": [],
   "source": [
    "def merge( l , r ):\n",
    "    sortedData = []\n",
    "    i = j = 0\n",
    "    #compare which one should be front\n",
    "    while i < len(l) and j < len(r):\n",
    "        if l[i] < r[j]:\n",
    "            sortedData.append(l[i])\n",
    "            i+=1\n",
    "        else:\n",
    "            sortedData.append(r[j])\n",
    "            j+=1\n",
    "\n",
    "    # left hand side is not empty\n",
    "    while i < len(l):\n",
    "        sortedData.append(l[i])\n",
    "        i+=1\n",
    "\n",
    "    # right hand side is not empty\n",
    "    while j < len(r):\n",
    "        sortedData.append(r[j])\n",
    "        j+=1\n",
    "    return sortedData\n"
   ]
  },
  {
   "cell_type": "code",
   "execution_count": 67,
   "metadata": {},
   "outputs": [],
   "source": [
    "def mergeSort(data):\n",
    "    if len(data) > 1 :\n",
    "        mid = (len(data) + 1 ) // 2\n",
    "        left = data[:mid]\n",
    "        right = data[mid:]\n",
    "        left = mergeSort(left)\n",
    "        right = mergeSort(right)\n",
    "        print(\"left = \", left)\n",
    "        print(\"right = \", right)\n",
    "        data = merge(left, right)\n",
    "        print(\"after merge \",data)\n",
    "        print(\"--------------------\")\n",
    "    return data\n",
    "    "
   ]
  },
  {
   "cell_type": "code",
   "execution_count": 68,
   "metadata": {},
   "outputs": [
    {
     "name": "stdout",
     "output_type": "stream",
     "text": [
      "left =  [13]\n",
      "right =  [15]\n",
      "after merge  [13, 15]\n",
      "--------------------\n",
      "left =  [14]\n",
      "right =  [7]\n",
      "after merge  [7, 14]\n",
      "--------------------\n",
      "left =  [13, 15]\n",
      "right =  [7, 14]\n",
      "after merge  [7, 13, 14, 15]\n",
      "--------------------\n",
      "left =  [11]\n",
      "right =  [21]\n",
      "after merge  [11, 21]\n",
      "--------------------\n",
      "left =  [11, 21]\n",
      "right =  [20]\n",
      "after merge  [11, 20, 21]\n",
      "--------------------\n",
      "left =  [7, 13, 14, 15]\n",
      "right =  [11, 20, 21]\n",
      "after merge  [7, 11, 13, 14, 15, 20, 21]\n",
      "--------------------\n",
      "-----------------------------------\n",
      "sortedData:  [7, 11, 13, 14, 15, 20, 21]\n"
     ]
    }
   ],
   "source": [
    "data = mergeSort(data)\n",
    "print(\"-----------------------------------\")\n",
    "print(\"sortedData: \",data)\n"
   ]
  }
 ],
 "metadata": {
  "kernelspec": {
   "display_name": "Python 3.10.6 64-bit",
   "language": "python",
   "name": "python3"
  },
  "language_info": {
   "codemirror_mode": {
    "name": "ipython",
    "version": 3
   },
   "file_extension": ".py",
   "mimetype": "text/x-python",
   "name": "python",
   "nbconvert_exporter": "python",
   "pygments_lexer": "ipython3",
   "version": "3.10.6"
  },
  "orig_nbformat": 4,
  "vscode": {
   "interpreter": {
    "hash": "eb6d20035d45c3d21aa51649f768f6314977d8cfc1f0fc072c8131f48fe3cd21"
   }
  }
 },
 "nbformat": 4,
 "nbformat_minor": 2
}
