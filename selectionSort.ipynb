{
 "cells": [
  {
   "cell_type": "markdown",
   "metadata": {},
   "source": [
    "# selectionSort"
   ]
  },
  {
   "cell_type": "code",
   "execution_count": 49,
   "metadata": {},
   "outputs": [],
   "source": [
    "# data = [13, 15, 14, 7, 11, 21, 20]\n",
    "data = ['M','O','N','G','K','U','T']"
   ]
  },
  {
   "cell_type": "code",
   "execution_count": 50,
   "metadata": {},
   "outputs": [],
   "source": [
    "def selectionSort(data):\n",
    "    size = len(data)\n",
    "    sorteddataay = []\n",
    "    for i in range(size-1):\n",
    "        minIndex = i\n",
    "        for j in range(i+1, size):\n",
    "            if data[j] < data[minIndex]:\n",
    "                minIndex = j\n",
    "        data[i] , data[minIndex] = data[minIndex], data[i]\n",
    "        print(data)"
   ]
  },
  {
   "cell_type": "code",
   "execution_count": 51,
   "metadata": {},
   "outputs": [
    {
     "name": "stdout",
     "output_type": "stream",
     "text": [
      "['G', 'O', 'N', 'M', 'K', 'U', 'T']\n",
      "['G', 'K', 'N', 'M', 'O', 'U', 'T']\n",
      "['G', 'K', 'M', 'N', 'O', 'U', 'T']\n",
      "['G', 'K', 'M', 'N', 'O', 'U', 'T']\n",
      "['G', 'K', 'M', 'N', 'O', 'U', 'T']\n",
      "['G', 'K', 'M', 'N', 'O', 'T', 'U']\n",
      "-----------------------------------\n",
      "sortedData:  ['G', 'K', 'M', 'N', 'O', 'T', 'U']\n"
     ]
    }
   ],
   "source": [
    "selectionSort(data)\n",
    "print(\"-----------------------------------\")\n",
    "print(\"sortedData: \",data)"
   ]
  }
 ],
 "metadata": {
  "kernelspec": {
   "display_name": "Python 3.10.6 64-bit",
   "language": "python",
   "name": "python3"
  },
  "language_info": {
   "codemirror_mode": {
    "name": "ipython",
    "version": 3
   },
   "file_extension": ".py",
   "mimetype": "text/x-python",
   "name": "python",
   "nbconvert_exporter": "python",
   "pygments_lexer": "ipython3",
   "version": "3.10.6"
  },
  "orig_nbformat": 4,
  "vscode": {
   "interpreter": {
    "hash": "eb6d20035d45c3d21aa51649f768f6314977d8cfc1f0fc072c8131f48fe3cd21"
   }
  }
 },
 "nbformat": 4,
 "nbformat_minor": 2
}
