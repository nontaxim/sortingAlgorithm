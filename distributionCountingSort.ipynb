{
 "cells": [
  {
   "cell_type": "code",
   "execution_count": 124,
   "metadata": {},
   "outputs": [],
   "source": [
    "# data = [13, 15, 14, 7, 11, 21, 20]\n",
    "# data = ['M','O','N','G','K','U','T']\n",
    "data = [5, 3, 1, 9, 8, 2, 4, 7, 7]\n",
    "# data = [4, 6, 2, 3, 4, 1]\n"
   ]
  },
  {
   "cell_type": "code",
   "execution_count": 125,
   "metadata": {},
   "outputs": [],
   "source": [
    "def distributionCountingSort(data, l, u):\n",
    "    size = len(data)\n",
    "    sortedData = []\n",
    "    D = []\n",
    "    for j in range(u-l+1):\n",
    "        D.append(0)\n",
    "        sortedData.append(0)\n",
    "    for i in range(size):\n",
    "        v = data[i]-l\n",
    "        D[v] += 1\n",
    "    print(\"frequency = \",D)\n",
    "    for j in range(1,u-l+1):\n",
    "        D[j] = D[j-1]+D[j]\n",
    "    # print(sortedData)\n",
    "    print(\"distribution = \", D)\n",
    "    for i in range(size-1, -1, -1):\n",
    "        j = data[i] - l\n",
    "        print(\"index in D: \",j)\n",
    "        sortedData[D[j]-1] = data[i]\n",
    "        print(sortedData)\n",
    "        D[j] -= 1\n",
    "        print(\"distribution = \", D)\n",
    "        print('\\33[31m',\"--------------------------------------\",'\\33[0m')\n",
    "    return sortedData"
   ]
  },
  {
   "cell_type": "code",
   "execution_count": 126,
   "metadata": {},
   "outputs": [
    {
     "name": "stdout",
     "output_type": "stream",
     "text": [
      "input:  [5, 3, 1, 9, 8, 2, 4, 7, 7]\n",
      "frequency =  [1, 1, 1, 1, 1, 0, 2, 1, 1]\n",
      "distribution =  [1, 2, 3, 4, 5, 5, 7, 8, 9]\n",
      "index in D:  6\n",
      "[0, 0, 0, 0, 0, 0, 7, 0, 0]\n",
      "distribution =  [1, 2, 3, 4, 5, 5, 6, 8, 9]\n",
      "\u001b[31m -------------------------------------- \u001b[0m\n",
      "index in D:  6\n",
      "[0, 0, 0, 0, 0, 7, 7, 0, 0]\n",
      "distribution =  [1, 2, 3, 4, 5, 5, 5, 8, 9]\n",
      "\u001b[31m -------------------------------------- \u001b[0m\n",
      "index in D:  3\n",
      "[0, 0, 0, 4, 0, 7, 7, 0, 0]\n",
      "distribution =  [1, 2, 3, 3, 5, 5, 5, 8, 9]\n",
      "\u001b[31m -------------------------------------- \u001b[0m\n",
      "index in D:  1\n",
      "[0, 2, 0, 4, 0, 7, 7, 0, 0]\n",
      "distribution =  [1, 1, 3, 3, 5, 5, 5, 8, 9]\n",
      "\u001b[31m -------------------------------------- \u001b[0m\n",
      "index in D:  7\n",
      "[0, 2, 0, 4, 0, 7, 7, 8, 0]\n",
      "distribution =  [1, 1, 3, 3, 5, 5, 5, 7, 9]\n",
      "\u001b[31m -------------------------------------- \u001b[0m\n",
      "index in D:  8\n",
      "[0, 2, 0, 4, 0, 7, 7, 8, 9]\n",
      "distribution =  [1, 1, 3, 3, 5, 5, 5, 7, 8]\n",
      "\u001b[31m -------------------------------------- \u001b[0m\n",
      "index in D:  0\n",
      "[1, 2, 0, 4, 0, 7, 7, 8, 9]\n",
      "distribution =  [0, 1, 3, 3, 5, 5, 5, 7, 8]\n",
      "\u001b[31m -------------------------------------- \u001b[0m\n",
      "index in D:  2\n",
      "[1, 2, 3, 4, 0, 7, 7, 8, 9]\n",
      "distribution =  [0, 1, 2, 3, 5, 5, 5, 7, 8]\n",
      "\u001b[31m -------------------------------------- \u001b[0m\n",
      "index in D:  4\n",
      "[1, 2, 3, 4, 5, 7, 7, 8, 9]\n",
      "distribution =  [0, 1, 2, 3, 4, 5, 5, 7, 8]\n",
      "\u001b[31m -------------------------------------- \u001b[0m\n",
      "output:  [1, 2, 3, 4, 5, 7, 7, 8, 9]\n"
     ]
    }
   ],
   "source": [
    "print(\"input: \",data)\n",
    "data = distributionCountingSort(data, 1, 9)\n",
    "print(\"output: \",data)"
   ]
  }
 ],
 "metadata": {
  "kernelspec": {
   "display_name": "Python 3.10.6 64-bit",
   "language": "python",
   "name": "python3"
  },
  "language_info": {
   "codemirror_mode": {
    "name": "ipython",
    "version": 3
   },
   "file_extension": ".py",
   "mimetype": "text/x-python",
   "name": "python",
   "nbconvert_exporter": "python",
   "pygments_lexer": "ipython3",
   "version": "3.10.6"
  },
  "orig_nbformat": 4,
  "vscode": {
   "interpreter": {
    "hash": "eb6d20035d45c3d21aa51649f768f6314977d8cfc1f0fc072c8131f48fe3cd21"
   }
  }
 },
 "nbformat": 4,
 "nbformat_minor": 2
}
