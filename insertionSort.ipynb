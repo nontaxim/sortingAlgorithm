{
 "cells": [
  {
   "cell_type": "code",
   "execution_count": 4,
   "metadata": {},
   "outputs": [],
   "source": [
    "# data = [13, 15, 14, 7, 11, 21, 20]\n",
    "data = ['M','O','N','G','K','U','T']"
   ]
  },
  {
   "cell_type": "code",
   "execution_count": 5,
   "metadata": {},
   "outputs": [],
   "source": [
    "def insertionSort(data):\n",
    "    size = len(data)\n",
    "    for i in range(1,size):\n",
    "        v = data[i]\n",
    "        j = i-1\n",
    "        while( j >= 0 and v < data[j] ):\n",
    "            data[j+1] = data[j]\n",
    "            j -= 1\n",
    "        data[j+1] = v\n",
    "        print(data)\n",
    "        "
   ]
  },
  {
   "cell_type": "code",
   "execution_count": 6,
   "metadata": {},
   "outputs": [
    {
     "name": "stdout",
     "output_type": "stream",
     "text": [
      "['M', 'O', 'N', 'G', 'K', 'U', 'T']\n",
      "['M', 'N', 'O', 'G', 'K', 'U', 'T']\n",
      "['G', 'M', 'N', 'O', 'K', 'U', 'T']\n",
      "['G', 'K', 'M', 'N', 'O', 'U', 'T']\n",
      "['G', 'K', 'M', 'N', 'O', 'U', 'T']\n",
      "['G', 'K', 'M', 'N', 'O', 'T', 'U']\n",
      "-----------------------------------\n",
      "sortedData:  ['G', 'K', 'M', 'N', 'O', 'T', 'U']\n"
     ]
    }
   ],
   "source": [
    "insertionSort(data)\n",
    "print(\"-----------------------------------\")\n",
    "print(\"sortedData: \",data)"
   ]
  }
 ],
 "metadata": {
  "kernelspec": {
   "display_name": "Python 3.10.6 64-bit",
   "language": "python",
   "name": "python3"
  },
  "language_info": {
   "codemirror_mode": {
    "name": "ipython",
    "version": 3
   },
   "file_extension": ".py",
   "mimetype": "text/x-python",
   "name": "python",
   "nbconvert_exporter": "python",
   "pygments_lexer": "ipython3",
   "version": "3.10.6"
  },
  "orig_nbformat": 4,
  "vscode": {
   "interpreter": {
    "hash": "eb6d20035d45c3d21aa51649f768f6314977d8cfc1f0fc072c8131f48fe3cd21"
   }
  }
 },
 "nbformat": 4,
 "nbformat_minor": 2
}
