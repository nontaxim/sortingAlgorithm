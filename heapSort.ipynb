{
 "cells": [
  {
   "cell_type": "code",
   "execution_count": 1,
   "metadata": {},
   "outputs": [],
   "source": [
    "# data = [0, 13, 15, 14, 7, 11, 21, 20]\n",
    "# data = [0,'M','O','N','G','K','U','T']\n",
    "# data = [0, 5, 3, 1, 9, 8, 2, 4, 7, 7]\n",
    "data = [0, 4, 6, 2, 3, 4, 1]\n",
    "# data = [0, 2, 9, 7, 6, 5, 8]\n"
   ]
  },
  {
   "cell_type": "code",
   "execution_count": 2,
   "metadata": {},
   "outputs": [],
   "source": [
    "def heapBottomUp(data):\n",
    "    n = len(data)-1\n",
    "    for i in range(n//2, 0, -1):\n",
    "        # p = parent index\n",
    "        p = i\n",
    "        v = data[p]\n",
    "        heap = False\n",
    "        while not heap and 2*p <= n:\n",
    "            # j = leftChildIndex\n",
    "            j = 2*p\n",
    "            # have 2 children\n",
    "            if j < n:\n",
    "                # find whicj children is greater\n",
    "                if data[j] < data[j+1]:\n",
    "                    j+=1\n",
    "            #is parental dominance?\n",
    "            if v >= data[j]:\n",
    "                heap = True\n",
    "            #swap node\n",
    "            else:\n",
    "                data[p] = data[j]\n",
    "                p = j\n",
    "        data[p] = v\n",
    "\n"
   ]
  },
  {
   "cell_type": "code",
   "execution_count": 3,
   "metadata": {},
   "outputs": [],
   "source": [
    "def heapDeleteKey(data, i, n):\n",
    "    # swap deleteNode with lastNode\n",
    "    data[i], data[n] = data[n], data[i]\n",
    "    # untill it have no child\n",
    "    while 2*i <= n-1:\n",
    "        # childIndex\n",
    "        j = 2*i\n",
    "        # if it has 2 children, find the greater\n",
    "        if j < n-1 and data[j] < data[j+1]:\n",
    "            j+=1\n",
    "        # Is it parental dominace?\n",
    "        if data[i] < data[j]:\n",
    "            data[i], data[j] = data[j], data[i]\n",
    "            i = j\n",
    "        else:\n",
    "            break\n",
    "    return data.pop() #remove deleteNode\n"
   ]
  },
  {
   "cell_type": "code",
   "execution_count": 4,
   "metadata": {},
   "outputs": [],
   "source": [
    "def heapSort(data):\n",
    "    heapBottomUp(data)\n",
    "    n = len(data)\n",
    "    lastIndex = n -1\n",
    "    for i in range(n-1):\n",
    "        data.append(heapDeleteKey(data, 1, lastIndex))\n",
    "        lastIndex -= 1\n",
    "    data.pop(0)"
   ]
  },
  {
   "cell_type": "code",
   "execution_count": 5,
   "metadata": {},
   "outputs": [
    {
     "name": "stdout",
     "output_type": "stream",
     "text": [
      "input:  [0, 4, 6, 2, 3, 4, 1]\n",
      "output:  [1, 2, 3, 4, 4, 6]\n"
     ]
    }
   ],
   "source": [
    "print(\"input: \",data)\n",
    "heapSort(data)\n",
    "print(\"output: \",data)"
   ]
  }
 ],
 "metadata": {
  "kernelspec": {
   "display_name": "Python 3.10.6 64-bit",
   "language": "python",
   "name": "python3"
  },
  "language_info": {
   "codemirror_mode": {
    "name": "ipython",
    "version": 3
   },
   "file_extension": ".py",
   "mimetype": "text/x-python",
   "name": "python",
   "nbconvert_exporter": "python",
   "pygments_lexer": "ipython3",
   "version": "3.10.6"
  },
  "orig_nbformat": 4,
  "vscode": {
   "interpreter": {
    "hash": "eb6d20035d45c3d21aa51649f768f6314977d8cfc1f0fc072c8131f48fe3cd21"
   }
  }
 },
 "nbformat": 4,
 "nbformat_minor": 2
}
